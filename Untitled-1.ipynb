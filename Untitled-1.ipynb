{
 "cells": [
  {
   "cell_type": "code",
   "execution_count": 2,
   "metadata": {},
   "outputs": [],
   "source": [
    "import pandas as pd\n",
    "import json, urllib.request\n",
    "import numpy as np"
   ]
  },
  {
   "cell_type": "code",
   "execution_count": 6,
   "metadata": {},
   "outputs": [],
   "source": [
    "\n",
    "\n",
    "#url = urllib.request.urlopen(\"http://www3.septa.org/hackathon/Arrivals/90005\")\n",
    "#text = json.loads(url.read())\n",
    "\n",
    "\n",
    "lines = pd.read_csv('http://www3.septa.org/hackathon/Arrivals/station_id_name.csv')\n",
    "ids = lines['Station_ID']\n",
    "urls = [urllib.request.urlopen(f\"http://www3.septa.org/hackathon/Arrivals/{id}\") for id in ids]\n",
    "#urls[1]\n",
    "data = [json.loads(url.read().decode()) for url in urls]\n",
    "\n",
    "\n",
    "\n",
    "# with urllib.request.urlopen(\"http://www3.septa.org/hackathon/Arrivals/90005\") as url:\n",
    "#     data = json.loads(url.read().decode())\n",
    "\n",
    "# for key in data.keys():\n",
    "#     df = pd.DataFrame([data[key][1]['Southbound'][3]])"
   ]
  },
  {
   "cell_type": "code",
   "execution_count": 10,
   "metadata": {},
   "outputs": [
    {
     "data": {
      "text/plain": [
       "dict_keys(['30th Street Station Departures: July 3, 2022, 1:43 pm'])"
      ]
     },
     "execution_count": 10,
     "metadata": {},
     "output_type": "execute_result"
    }
   ],
   "source": [
    "data[0].keys()"
   ]
  },
  {
   "cell_type": "code",
   "execution_count": null,
   "metadata": {},
   "outputs": [],
   "source": []
  }
 ],
 "metadata": {
  "kernelspec": {
   "display_name": "Python 3.8.5 ('base')",
   "language": "python",
   "name": "python3"
  },
  "language_info": {
   "codemirror_mode": {
    "name": "ipython",
    "version": 3
   },
   "file_extension": ".py",
   "mimetype": "text/x-python",
   "name": "python",
   "nbconvert_exporter": "python",
   "pygments_lexer": "ipython3",
   "version": "3.8.5"
  },
  "orig_nbformat": 4,
  "vscode": {
   "interpreter": {
    "hash": "b6bfacabc32f9be73201bd6878eb131ef1a8dfc4b5e504f1300b64d473c549fc"
   }
  }
 },
 "nbformat": 4,
 "nbformat_minor": 2
}
